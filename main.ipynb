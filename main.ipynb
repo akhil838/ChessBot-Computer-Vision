{
 "cells": [
  {
   "cell_type": "code",
   "id": "initial_id",
   "metadata": {
    "ExecuteTime": {
     "end_time": "2025-04-22T16:39:11.335296Z",
     "start_time": "2025-04-22T16:39:10.196218Z"
    }
   },
   "source": [
    "import os\n",
    "\n",
    "import cv2\n",
    "from IPython.display import display,clear_output\n",
    "import ultralytics\n",
    "from ultralytics import YOLO\n",
    "import torch\n",
    "import shapely\n",
    "import chess\n",
    "import time\n",
    "from shapely.geometry import Polygon, Point\n",
    "import warnings\n",
    "warnings.filterwarnings(\"ignore\")\n",
    "import numpy as np\n",
    "import subprocess\n",
    "import chess.svg\n",
    "from IPython.display import SVG\n",
    "import chess\n",
    "import cv2\n",
    "import numpy as np\n",
    "from PIL import ImageFont, ImageDraw, Image\n",
    "import platform\n",
    "\n",
    "from stockfish_downloader import download_stockfish\n",
    "download_stockfish()"
   ],
   "outputs": [
    {
     "name": "stdout",
     "output_type": "stream",
     "text": [
      "Detected OS: Darwin, Architecture: arm64\n",
      "Stockfish is already downloaded. path: /Users/akhil838/Documents/PyCharm_Projects/MiniProject/stockfish\n"
     ]
    }
   ],
   "execution_count": 1
  },
  {
   "cell_type": "code",
   "id": "3b25f4afd65a080c",
   "metadata": {
    "ExecuteTime": {
     "end_time": "2025-04-22T16:39:11.339784Z",
     "start_time": "2025-04-22T16:39:11.338627Z"
    }
   },
   "source": [],
   "outputs": [],
   "execution_count": null
  },
  {
   "cell_type": "code",
   "id": "d3d690ba550fcfc4",
   "metadata": {
    "ExecuteTime": {
     "end_time": "2025-04-22T16:39:11.487680Z",
     "start_time": "2025-04-22T16:39:11.470870Z"
    }
   },
   "source": [
    "# model = YOLO('./runs/detect/train22/weights/best.pt')\n",
    "model = YOLO('model/best.pt')"
   ],
   "outputs": [],
   "execution_count": 2
  },
  {
   "cell_type": "code",
   "id": "db2a2e0f3330faa9",
   "metadata": {
    "ExecuteTime": {
     "end_time": "2025-04-22T16:39:11.565341Z",
     "start_time": "2025-04-22T16:39:11.563737Z"
    }
   },
   "source": [
    "# cap = cv2.VideoCapture(1)\n",
    "# while cap.isOpened():\n",
    "#     ret, frame = cap.read()  # Read frame from webcam\n",
    "#     if not ret:\n",
    "#         break\n",
    "#\n",
    "#     # Run YOLO inference\n",
    "#     results = model.predict(frame ,conf = 0.3, device=\"mps\",verbose = False) # Use GPU if available\n",
    "#     # Visualize results on frame\n",
    "#     for result in results:\n",
    "#         if result.obb is None or len(result.obb) == 0:\n",
    "#             display(\"No oriented bounding boxes detected\")\n",
    "#             continue  # Skip frame if no OBBs\n",
    "#\n",
    "#         for obb in result.obb:\n",
    "#             if obb is None or obb.xyxyxyxy is None:\n",
    "#                 continue  # Skip invalid OBBs\n",
    "#\n",
    "#             # Extract 4 corner points from OBB\n",
    "#             points = obb.xyxyxyxy.cpu().numpy().astype(int)  # Convert tensor to numpy array\n",
    "#\n",
    "#             # Draw OBB polygon\n",
    "#             points = points.reshape((-1, 2)).astype(np.int32)\n",
    "#\n",
    "#             if points.shape == (4, 2):  # Ensure correct shape\n",
    "#                 cv2.polylines(frame, [points], isClosed=True, color=(0, 255, 0), thickness=2)\n",
    "#             else:\n",
    "#                 display(\"Warning: OBB points have incorrect shape:\", points.shape)\n",
    "#\n",
    "#             # Draw label\n",
    "#             conf = obb.conf[0].item()\n",
    "#             cls = int(obb.cls[0].item())\n",
    "#             label = f\"{model.names[cls]} {conf:.2f}\"\n",
    "#             cv2.putText(frame, label, (points[0][0], points[0][1] - 10),\n",
    "#                         cv2.FONT_HERSHEY_SIMPLEX, 1, (0, 255, 0), 2)\n",
    "#\n",
    "#     cv2.imshow(\"YOLO OBB Detection\", frame)\n",
    "#\n",
    "#     # Press 'q' to exit\n",
    "#     if cv2.waitKey(1) & 0xFF == ord(\"q\"):\n",
    "#         break\n",
    "#\n",
    "# cap.release()\n",
    "# cv2.destroyAllWindows()"
   ],
   "outputs": [],
   "execution_count": 3
  },
  {
   "cell_type": "code",
   "id": "5bbbaaeafabebe2d",
   "metadata": {
    "ExecuteTime": {
     "end_time": "2025-04-22T16:39:11.568408Z",
     "start_time": "2025-04-22T16:39:11.567156Z"
    }
   },
   "source": [
    "# cap.release()\n",
    "# cv2.destroyAllWindows()"
   ],
   "outputs": [],
   "execution_count": 4
  },
  {
   "cell_type": "code",
   "id": "75eb900b44e60517",
   "metadata": {
    "ExecuteTime": {
     "end_time": "2025-04-22T16:39:14.293561Z",
     "start_time": "2025-04-22T16:39:11.572809Z"
    }
   },
   "source": [
    "import cv2\n",
    "def get_available_cameras():\n",
    "    available_cameras = []\n",
    "    # Check for 5 cameras\n",
    "    for i in range(5):\n",
    "        cap = cv2.VideoCapture(i)\n",
    "        if cap.isOpened():\n",
    "            available_cameras.append(i)\n",
    "            cap.release()\n",
    "    return available_cameras\n",
    "\n",
    "cameras = get_available_cameras()\n",
    "if cameras:\n",
    "    print(\"Available Cameras:\", cameras)\n",
    "else:\n",
    "    print(\"No cameras found.\")"
   ],
   "outputs": [
    {
     "name": "stderr",
     "output_type": "stream",
     "text": [
      "2025-04-22 22:09:11.687 Python[3073:26396568] WARNING: AVCaptureDeviceTypeExternal is deprecated for Continuity Cameras. Please use AVCaptureDeviceTypeContinuityCamera and add NSCameraUseContinuityCameraDeviceType to your Info.plist.\n"
     ]
    },
    {
     "name": "stdout",
     "output_type": "stream",
     "text": [
      "Available Cameras: [0, 1, 2]\n"
     ]
    },
    {
     "name": "stderr",
     "output_type": "stream",
     "text": [
      "OpenCV: out device of bound (0-2): 3\n",
      "OpenCV: camera failed to properly initialize!\n",
      "OpenCV: out device of bound (0-2): 4\n",
      "OpenCV: camera failed to properly initialize!\n"
     ]
    }
   ],
   "execution_count": 5
  },
  {
   "cell_type": "code",
   "id": "c1b6b4a88d61f9bd",
   "metadata": {
    "ExecuteTime": {
     "end_time": "2025-04-22T16:39:14.304053Z",
     "start_time": "2025-04-22T16:39:14.298959Z"
    }
   },
   "source": [
    "import cv2\n",
    "import numpy as np\n",
    "\n",
    "def draw_perspective_grid(image, corners, grid_size=8, color=(0, 0, 255), thickness=1, dev_mode=True):\n",
    "    \"\"\"\n",
    "    Draws an 8x8 grid inside a quadrilateral defined by `corners` using perspective transform.\n",
    "\n",
    "    Params:\n",
    "    - image: original image (BGR)\n",
    "    - corners: list of 4 (x, y) tuples, approx corners of a square\n",
    "    - grid_size: number of divisions along each side (default 8)\n",
    "    - color: line color for drawing\n",
    "    - thickness: thickness of the grid lines\n",
    "    \"\"\"\n",
    "    img = image.copy()\n",
    "    h, w = image.shape[:2]\n",
    "    square_size = 800  # working warped image size\n",
    "\n",
    "    # Sort corners: top-left, top-right, bottom-right, bottom-left\n",
    "    def sort_corners(pts):\n",
    "        pts = np.array(pts, dtype=np.float32)\n",
    "        s = pts.sum(axis=1)\n",
    "        diff = np.diff(pts, axis=1)\n",
    "        return np.array([\n",
    "            pts[np.argmin(s)],      # top-left\n",
    "            pts[np.argmin(diff)],   # top-right\n",
    "            pts[np.argmax(s)],      # bottom-right\n",
    "            pts[np.argmax(diff)]    # bottom-left\n",
    "        ], dtype=np.float32)\n",
    "\n",
    "    src = sort_corners(corners)\n",
    "    dst = np.array([\n",
    "        [0, 0],\n",
    "        [square_size, 0],\n",
    "        [square_size, square_size],\n",
    "        [0, square_size]\n",
    "    ], dtype=np.float32)\n",
    "\n",
    "    # Perspective transform matrices\n",
    "    M = cv2.getPerspectiveTransform(src, dst)\n",
    "    M_inv = cv2.getPerspectiveTransform(dst, src)\n",
    "\n",
    "    step = square_size // grid_size\n",
    "\n",
    "    intersection_points = []\n",
    "\n",
    "    # Compute all intersections in warped space\n",
    "    for i in range(grid_size + 1):\n",
    "        intersection_points.append([])\n",
    "        for j in range(grid_size + 1):\n",
    "            pt = np.array([[[j * step, i * step]]], dtype=np.float32)\n",
    "            pt_orig = cv2.perspectiveTransform(pt, M_inv)[0][0]\n",
    "            pt_orig_int = tuple(np.int32(pt_orig))\n",
    "            cv2.drawMarker(image, pt_orig_int, (0, 255, 255), thickness=2)\n",
    "            intersection_points[-1].append(pt_orig_int)\n",
    "\n",
    "    if dev_mode:\n",
    "        # Draw vertical lines in warped space, then inverse transform\n",
    "        for i in range(1, grid_size):\n",
    "            x = i * step\n",
    "            pt1 = np.array([[[x, 0]]], dtype=np.float32)\n",
    "            pt2 = np.array([[[x, square_size]]], dtype=np.float32)\n",
    "            pt1_orig = cv2.perspectiveTransform(pt1, M_inv)[0][0]\n",
    "            pt2_orig = cv2.perspectiveTransform(pt2, M_inv)[0][0]\n",
    "            cv2.line(img,\n",
    "                     tuple(np.int32(pt1_orig)),\n",
    "                     tuple(np.int32(pt2_orig)),\n",
    "                     color, thickness)\n",
    "\n",
    "        # Draw horizontal lines in warped space, then inverse transform\n",
    "        for i in range(1, grid_size):\n",
    "            y = i * step\n",
    "            pt1 = np.array([[[0, y]]], dtype=np.float32)\n",
    "            pt2 = np.array([[[square_size, y]]], dtype=np.float32)\n",
    "            pt1_orig = cv2.perspectiveTransform(pt1, M_inv)[0][0]\n",
    "            pt2_orig = cv2.perspectiveTransform(pt2, M_inv)[0][0]\n",
    "            cv2.line(img,\n",
    "                     tuple(np.int32(pt1_orig)),\n",
    "                     tuple(np.int32(pt2_orig)),\n",
    "                     color, thickness)\n",
    "\n",
    "        # Optionally draw outer border\n",
    "        cv2.polylines(img, [np.int32(src)], isClosed=True, color=(255, 0, 0), thickness=2)\n",
    "\n",
    "    warped = cv2.warpPerspective(img, M, (square_size, square_size))\n",
    "    warped = cv2.resize(warped, (300, 300))\n",
    "    cv2.imshow('warped', warped)\n",
    "\n",
    "    return img, intersection_points"
   ],
   "outputs": [],
   "execution_count": 6
  },
  {
   "cell_type": "code",
   "id": "4954119662b6973d",
   "metadata": {
    "ExecuteTime": {
     "end_time": "2025-04-22T16:39:14.315158Z",
     "start_time": "2025-04-22T16:39:14.312617Z"
    }
   },
   "source": [
    "def get_perspective_piece(coords, corners):\n",
    "    def sort_corners(pts):\n",
    "        pts = np.array(pts, dtype=np.float32)\n",
    "        s = pts.sum(axis=1)\n",
    "        diff = np.diff(pts, axis=1)\n",
    "        return np.array([\n",
    "            pts[np.argmin(s)],      # top-left\n",
    "            pts[np.argmin(diff)],   # top-right\n",
    "            pts[np.argmax(s)],      # bottom-right\n",
    "            pts[np.argmax(diff)]    # bottom-left\n",
    "        ], dtype=np.float32)\n",
    "\n",
    "    square_size = 800  # working warped image size\n",
    "    src = sort_corners(corners)\n",
    "    dst = np.array([\n",
    "        [0, 0],\n",
    "        [square_size, 0],\n",
    "        [square_size, square_size],\n",
    "        [0, square_size]\n",
    "    ], dtype=np.float32)\n",
    "\n",
    "    # Perspective transform matrices\n",
    "    M = cv2.getPerspectiveTransform(src, dst)\n",
    "    M_inv = cv2.getPerspectiveTransform(dst, src)\n",
    "\n",
    "    x1, y1, x2, y2 = coords\n",
    "    piece_centre = np.array([[[(x1 + x2) / 2 ,y2]]],dtype=np.float32)\n",
    "    #print(piece_centre)\n",
    "    piece_corner_transformed = cv2.perspectiveTransform(piece_centre, M)[0][0]\n",
    "    #print(piece_corner_transformed)\n",
    "\n",
    "    piece_corner_transformed[1] -= 10\n",
    "    return cv2.perspectiveTransform(np.array([[piece_corner_transformed]],dtype= np.float32), M_inv)[0][0]\n"
   ],
   "outputs": [],
   "execution_count": 7
  },
  {
   "cell_type": "code",
   "id": "dba28c5e6d647b92",
   "metadata": {
    "ExecuteTime": {
     "end_time": "2025-04-22T16:39:14.322368Z",
     "start_time": "2025-04-22T16:39:14.320302Z"
    }
   },
   "source": [
    "def check_any_bbox_overlap(bboxes):\n",
    "    \"\"\"\n",
    "    Checks if any of the 4 bounding boxes overlap.\n",
    "\n",
    "    Args:\n",
    "        bboxes (list of tuple): List of 4 bounding boxes in (x_min, y_min, x_max, y_max) format.\n",
    "\n",
    "    Returns:\n",
    "        bool: True if any two boxes overlap, else False.\n",
    "    \"\"\"\n",
    "    def boxes_overlap(box1, box2):\n",
    "        x1_min, y1_min, x1_max, y1_max = box1\n",
    "        x2_min, y2_min, x2_max, y2_max = box2\n",
    "\n",
    "        # Check if there is no overlap\n",
    "        if x1_max <= x2_min or x2_max <= x1_min:\n",
    "            return False\n",
    "        if y1_max <= y2_min or y2_max <= y1_min:\n",
    "            return False\n",
    "\n",
    "        return True\n",
    "\n",
    "    # Check all pairs\n",
    "    for i in range(len(bboxes)):\n",
    "        for j in range(i + 1, len(bboxes)):\n",
    "            if boxes_overlap(bboxes[i], bboxes[j]):\n",
    "                return True\n",
    "\n",
    "    return False"
   ],
   "outputs": [],
   "execution_count": 8
  },
  {
   "cell_type": "code",
   "id": "ee5dcaed34d73684",
   "metadata": {
    "ExecuteTime": {
     "end_time": "2025-04-22T16:39:14.329263Z",
     "start_time": "2025-04-22T16:39:14.326914Z"
    }
   },
   "source": [
    "def get_board(intersection_points, perspective_pieces):\n",
    "    board = []\n",
    "    FEN_label = {\n",
    "    \"Pawn_w\": \"P\", \"Knight_w\": \"N\", \"Bishop_w\": \"B\", \"Rook_w\": 'R', \"Queen_w\": 'Q', \"King_w\": 'K',\n",
    "    \"Pawn_b\": \"p\", \"Knight_b\": \"n\", \"Bishop_b\": 'b', \"Rook_b\": 'r', \"Queen_b\": 'q', \"King_b\": 'k',\n",
    "    }\n",
    "    try:\n",
    "        #print(intersection_points)\n",
    "        for i in range(8):\n",
    "            row = ''\n",
    "            #empty_count = 0\n",
    "            for j in range(8):\n",
    "                top_left = Point(intersection_points[i][j])\n",
    "                top_right = Point(intersection_points[i][j+1])\n",
    "                bottom_right = Point(intersection_points[i+1][j])\n",
    "                bottom_left = Point(intersection_points[i+1][j+1])\n",
    "                #print(i,j,top_left, top_right, bottom_right, bottom_left)\n",
    "                polygon = Polygon([top_left, top_right, bottom_right, bottom_left])\n",
    "                for corner,label in perspective_pieces:\n",
    "                    if polygon.contains(Point(corner)):\n",
    "                        #print(label)\n",
    "                        # if empty_count:\n",
    "                        #     row += str(empty_count)\n",
    "                        #     empty_count = 0\n",
    "                        row += FEN_label[label]\n",
    "                        break\n",
    "                else:\n",
    "                    row += '.'\n",
    "                    #empty_count += 1\n",
    "                #print(j)\n",
    "            #print(i,row)\n",
    "            board.append(row)\n",
    "\n",
    "    except Exception as e:\n",
    "        print(e)\n",
    "        board = None\n",
    "    return board\n",
    "\n",
    "\n",
    "\n"
   ],
   "outputs": [],
   "execution_count": 9
  },
  {
   "cell_type": "code",
   "id": "e5d79db624ae5168",
   "metadata": {
    "ExecuteTime": {
     "end_time": "2025-04-22T16:39:14.335979Z",
     "start_time": "2025-04-22T16:39:14.333592Z"
    }
   },
   "source": [
    "def start_stockfish(path):\n",
    "    # Example usage\n",
    "    # Replace 'stockfish' with the path to your Stockfish executable if it's not in your system's PATH\n",
    "    engine = subprocess.Popen(\n",
    "        [path],\n",
    "        stdin=subprocess.PIPE,\n",
    "        stdout=subprocess.PIPE,\n",
    "        stderr=subprocess.PIPE,\n",
    "        universal_newlines=True,\n",
    "        bufsize=1\n",
    "    )\n",
    "\n",
    "    # Example: Send the 'uci' command to initialize UCI mode\n",
    "    engine.stdin.write('uci\\n')\n",
    "    engine.stdin.flush()\n",
    "\n",
    "    # Read and print the engine's response\n",
    "    while True:\n",
    "        output = engine.stdout.readline()\n",
    "        if output.strip() == 'uciok':\n",
    "            print('Stockfish Initialized')\n",
    "            break\n",
    "\n",
    "    return engine\n",
    "\n",
    "def stockfish_nextmove(engine, fen):\n",
    "    # Set the position using the provided FEN\n",
    "    engine.stdin.write(f'position fen {fen}\\n')\n",
    "    engine.stdin.flush()\n",
    "\n",
    "    # Instruct Stockfish to search for the best move within a time limit (e.g., 1 second)\n",
    "    engine.stdin.write('go movetime 500\\n')\n",
    "    engine.stdin.flush()\n",
    "\n",
    "    best_move = None\n",
    "    # Read lines until the best move is found\n",
    "    empty_line_count = 0\n",
    "    while True:\n",
    "        line = engine.stdout.readline()\n",
    "        if line == '':\n",
    "            empty_line_count += 1\n",
    "\n",
    "        if line.startswith('bestmove'):\n",
    "            best_move = line.split()[1]\n",
    "            break\n",
    "\n",
    "        if empty_line_count > 100:\n",
    "            best_move = None\n",
    "            break\n",
    "\n",
    "    # Terminate the Stockfish process\n",
    "\n",
    "\n",
    "    return best_move\n",
    "\n",
    "\n"
   ],
   "outputs": [],
   "execution_count": 10
  },
  {
   "cell_type": "code",
   "id": "6c2785e88b47616a",
   "metadata": {
    "ExecuteTime": {
     "end_time": "2025-04-22T16:39:14.621859Z",
     "start_time": "2025-04-22T16:39:14.340186Z"
    }
   },
   "source": [
    "engine = start_stockfish('./stockfish/stockfish-macos-m1-apple-silicon')"
   ],
   "outputs": [
    {
     "name": "stdout",
     "output_type": "stream",
     "text": [
      "Stockfish Initialized\n"
     ]
    }
   ],
   "execution_count": 11
  },
  {
   "cell_type": "code",
   "id": "e3a981847a83877e",
   "metadata": {
    "ExecuteTime": {
     "end_time": "2025-04-22T16:39:14.630684Z",
     "start_time": "2025-04-22T16:39:14.628448Z"
    }
   },
   "source": [
    "print(stockfish_nextmove(engine, '8/8/8/8/8/8/8/7P'))"
   ],
   "outputs": [
    {
     "name": "stdout",
     "output_type": "stream",
     "text": [
      "None\n"
     ]
    }
   ],
   "execution_count": 12
  },
  {
   "cell_type": "code",
   "id": "49f132aafcb0dd8e",
   "metadata": {
    "ExecuteTime": {
     "end_time": "2025-04-22T16:39:14.644081Z",
     "start_time": "2025-04-22T16:39:14.641525Z"
    }
   },
   "source": [
    "def augument_nextMove(frame, next_move,inx_points):\n",
    "    image = frame.copy()\n",
    "    init_coords = 8 - (int(next_move[1])-1), (ord(next_move[0])-97)\n",
    "    #init_coords= 1,1\n",
    "    final_coords = 8 - (int(next_move[3])-1), (ord(next_move[2])-97)\n",
    "    #print(init_coords, final_coords)\n",
    "    init_box = np.array([[\n",
    "        inx_points[init_coords[0]][init_coords[1]],\n",
    "        inx_points[init_coords[0]-1][init_coords[1]],\n",
    "        inx_points[init_coords[0]-1][init_coords[1]+1],\n",
    "        inx_points[init_coords[0]][init_coords[1]+1]\n",
    "        ]],dtype= np.int32)#.reshape(-1,1,2)\n",
    "    final_box = np.array([[\n",
    "        inx_points[final_coords[0]][final_coords[1]],\n",
    "        inx_points[final_coords[0]-1][final_coords[1]],\n",
    "        inx_points[final_coords[0]-1][final_coords[1]+1],\n",
    "        inx_points[final_coords[0]][final_coords[1]+1]\n",
    "    ]],dtype= np.int32)#.reshape(-1,1,2)\n",
    "    frame = cv2.fillPoly(frame, init_box, (255,255,255))\n",
    "    frame = cv2.fillPoly(frame, final_box, (0,0,255))\n",
    "    alpha = 0.5\n",
    "    frame = cv2.addWeighted(frame, alpha, image, 1 - alpha, 0, image)\n",
    "\n",
    "    return frame"
   ],
   "outputs": [],
   "execution_count": 13
  },
  {
   "metadata": {
    "ExecuteTime": {
     "end_time": "2025-04-22T16:39:14.656373Z",
     "start_time": "2025-04-22T16:39:14.652873Z"
    }
   },
   "cell_type": "code",
   "source": [
    "import cv2\n",
    "import numpy as np\n",
    "from PIL import ImageFont, ImageDraw, Image\n",
    "import platform\n",
    "\n",
    "def find_unicode_font():\n",
    "    system = platform.system()\n",
    "    if system == \"Windows\":\n",
    "        return \"C:/Windows/Fonts/seguisym.ttf\"\n",
    "    elif system == \"Darwin\":\n",
    "        return \"/System/Library/Fonts/Supplemental/Arial Unicode.ttf\"\n",
    "    elif system == \"Linux\":\n",
    "        return \"/usr/share/fonts/truetype/dejavu/DejaVuSans.ttf\"\n",
    "    else:\n",
    "        raise RuntimeError(\"Unsupported OS for font detection.\")\n",
    "\n",
    "def display_chess_fen(fen: str):\n",
    "    piece_unicode = {\n",
    "        'P': '♙', 'N': '♘', 'B': '♗', 'R': '♖', 'Q': '♕', 'K': '♔',\n",
    "        'p': '♟', 'n': '♞', 'b': '♝', 'r': '♜', 'q': '♛', 'k': '♚',\n",
    "    }\n",
    "\n",
    "    board_size = 480\n",
    "    square_size = board_size // 8\n",
    "    light_square = (239, 239, 209)  # From uploaded image\n",
    "    dark_square = (120, 140, 82)    # From uploaded image\n",
    "\n",
    "    img = np.ones((board_size, board_size, 3), dtype=np.uint8) * 255\n",
    "    img_pil = Image.fromarray(img)\n",
    "    draw = ImageDraw.Draw(img_pil)\n",
    "\n",
    "    font_path = find_unicode_font()\n",
    "    font = ImageFont.truetype(font_path, square_size - 10)\n",
    "\n",
    "    position = fen.split()[0]\n",
    "    rows = position.split('/')\n",
    "\n",
    "    for row_idx in range(8):\n",
    "        for col_idx in range(8):\n",
    "            x = col_idx * square_size\n",
    "            y = row_idx * square_size\n",
    "            color = light_square if (row_idx + col_idx) % 2 == 0 else dark_square\n",
    "            draw.rectangle([x, y, x + square_size, y + square_size], fill=color)\n",
    "\n",
    "    for row_idx, row in enumerate(rows):\n",
    "        col_idx = 0\n",
    "        for char in row:\n",
    "            if char.isdigit():\n",
    "                col_idx += int(char)\n",
    "            else:\n",
    "                piece = piece_unicode.get(char)\n",
    "                if piece:\n",
    "                    x = col_idx * square_size\n",
    "                    y = row_idx * square_size\n",
    "                    bbox = font.getbbox(piece)\n",
    "                    w = bbox[2] - bbox[0]\n",
    "                    h = bbox[3] - bbox[1]\n",
    "                    draw.text(\n",
    "                        (x + (square_size - w) / 2, y + (square_size - h) / 2 - 5),\n",
    "                        piece,\n",
    "                        font=font,\n",
    "                        fill=(0, 0, 0)\n",
    "                    )\n",
    "                col_idx += 1\n",
    "\n",
    "    img = np.array(img_pil)\n",
    "    cv2.imshow(\"FEN Chess Board\", img)\n",
    "    cv2.waitKey(0)\n",
    "    cv2.destroyAllWindows()"
   ],
   "id": "ff10e5974a987506",
   "outputs": [],
   "execution_count": 14
  },
  {
   "cell_type": "code",
   "id": "6463e583441c246",
   "metadata": {},
   "source": [
    "import cv2\n",
    "import torch\n",
    "import numpy as np\n",
    "dev_mode = False\n",
    "# Load YOLO model (ensure you have the correct model path)\n",
    "# Open webcam (0 for default, 1 for external camera)\n",
    "cap = cv2.VideoCapture(1)\n",
    "engine = start_stockfish('./stockfish/stockfish-macos-m1-apple-silicon')\n",
    "frame_count = 0\n",
    "prev_fen = ''\n",
    "next_move = None\n",
    "while cap.isOpened():\n",
    "    \n",
    "    start_time = time.time()\n",
    "    ret, frame = cap.read()  # Read frame from webcam\n",
    "    if not ret:\n",
    "        break\n",
    "    frame_count += 1\n",
    "\n",
    "    # Run YOLO inference\n",
    "    results = model.predict(frame, conf=0.3, device=\"mps\", verbose=False)  # Adjust confidence threshold as needed\n",
    "\n",
    "    board_corners = []\n",
    "    board_bbox = []\n",
    "\n",
    "    pieces = []\n",
    "    for result in results:\n",
    "        if result.boxes is None or len(result.boxes) == 0:\n",
    "            continue  # Skip frame if no detections\n",
    "\n",
    "        for box in result.boxes:\n",
    "            x1, y1, x2, y2 = map(int, box.xyxy[0].cpu().numpy())  # Convert tensor to integer numpy array\n",
    "\n",
    "            # Draw bounding box\n",
    "\n",
    "\n",
    "            # Draw label\n",
    "            conf = box.conf[0].item()\n",
    "            cls = int(box.cls[0].item())\n",
    "            label = f\"{model.names[cls]} {conf:.2f}\"\n",
    "            if 'board_corner' == model.names[cls]:\n",
    "                board_corners.append(((x1+x2)/2, (y1+ y2)/2))\n",
    "                board_bbox.append((x1, y1, x2, y2))\n",
    "\n",
    "                cv2.drawMarker(frame, ((x1 + x2)// 2, (y1 + y2) //2), (0, 0, 255), 1,18,6)\n",
    "                #cv2.putText(frame, label, (x1, y1 - 10),cv2.FONT_HERSHEY_SIMPLEX, 0.5, (0, 255, 0), 2)\n",
    "            else:\n",
    "                pieces.append(((x1,y1), (x2,y2), label))\n",
    "\n",
    "    intersection_points = []\n",
    "    if len(board_bbox) == 4 and not check_any_bbox_overlap(board_bbox):\n",
    "        frame, intersection_points = draw_perspective_grid(frame, board_corners,grid_size=8,dev_mode=dev_mode)\n",
    "        if dev_mode:\n",
    "            for row in intersection_points:\n",
    "                #print(intersection_points)\n",
    "                for i,j in row:\n",
    "                    cv2.drawMarker(frame, (i, j), (0, 255, 255), 2)\n",
    "\n",
    "    perspective_pieces = []\n",
    "    for (x1,y1),(x2,y2),label in pieces:\n",
    "        trans_piece = list(map(int,get_perspective_piece((x1,y1,x2,y2),board_corners)))\n",
    "        perspective_pieces.append([trans_piece,label.split()[0][:-1]])\n",
    "        if dev_mode:\n",
    "            cv2.rectangle(frame, (x1, y1), (x2, y2), (0, 255, 0), 2)\n",
    "            cv2.putText(frame, label, (x1, y1 - 10),cv2.FONT_HERSHEY_SIMPLEX, 0.5, (0, 255, 0), 2)\n",
    "\n",
    "            cv2.drawMarker(frame,list(trans_piece),(255, 255, 255), markerType=2, markerSize=15, thickness=1)\n",
    "\n",
    "    if intersection_points:\n",
    "        board = get_board(intersection_points, perspective_pieces)\n",
    "        #print(board)\n",
    "        if board:\n",
    "            FEN = ''\n",
    "            for row in board:\n",
    "                empty = 0\n",
    "                #print(row)\n",
    "                for col in row+' ':\n",
    "                    #print(col)\n",
    "                    if col != '.':\n",
    "                        if empty != 0:\n",
    "                            FEN += str(empty)\n",
    "                            empty = 0\n",
    "                        if col != ' ':\n",
    "                            FEN += col\n",
    "                    else:\n",
    "                        empty += 1\n",
    "\n",
    "                FEN += '/'\n",
    "            FEN = FEN[:-1]\n",
    "\n",
    "            clear_output()\n",
    "            board = chess.Board(FEN)\n",
    "            custom_colors = {\n",
    "                \"square light\": \"#eeeed2\",  # White squares\n",
    "                \"square dark\": \"#769656\",   # Green squares\n",
    "            }\n",
    "            # Generate the SVG with custom colors\n",
    "            svg_board = chess.svg.board(board=board, colors=custom_colors,size = 350)\n",
    "\n",
    "            display(SVG(svg_board),frame_count)\n",
    "\n",
    "            display_chess_fen(FEN)\n",
    "            if prev_fen != FEN:\n",
    "                prev_fen = FEN\n",
    "                next_move = stockfish_nextmove(engine, FEN)\n",
    "\n",
    "            if next_move is None:\n",
    "                engine = start_stockfish('./stockfish/stockfish-macos-m1-apple-silicon')\n",
    "            else:\n",
    "                frame = augument_nextMove(frame, next_move,intersection_points)\n",
    "\n",
    "            cv2.putText(frame, next_move,(100,100),\n",
    "                            cv2.FONT_HERSHEY_SIMPLEX, 2, (0, 255, 0), 2)\n",
    "\n",
    "    #print(perspective_pieces)\n",
    "\n",
    "    #print(frame.shape)\n",
    "    frame = cv2.resize(frame, (2560,1440))\n",
    "    # Show frame\n",
    "    cv2.imshow(\"YOLO Detection\", frame)\n",
    "    end_time = time.time()\n",
    "    display(f'Inference Time: {(end_time-start_time)*100:.4f} ms')\n",
    "    # Press 'q' to exit\n",
    "    if cv2.waitKey(1) & 0xFF == ord(\"q\"):\n",
    "        break\n",
    "\n",
    "cap.release()\n",
    "cv2.destroyAllWindows()\n",
    "engine.stdin.write('quit\\n')\n",
    "engine.stdin.flush()\n",
    "engine.terminate()"
   ],
   "execution_count": null,
   "outputs": [
    {
     "name": "stderr",
     "output_type": "stream",
     "text": [
      "2025-04-22 22:09:16.415 Python[3073:26396568] +[IMKClient subclass]: chose IMKClient_Modern\n",
      "2025-04-22 22:09:16.415 Python[3073:26396568] +[IMKInputSession subclass]: chose IMKInputSession_Modern\n"
     ]
    }
   ]
  },
  {
   "cell_type": "code",
   "execution_count": null,
   "id": "092d4efd-ff37-474a-87c0-48004887016e",
   "metadata": {},
   "outputs": [],
   "source": []
  },
  {
   "cell_type": "code",
   "execution_count": null,
   "id": "4fdf7806-36e2-4a2e-8e97-d391baede7e4",
   "metadata": {},
   "outputs": [],
   "source": []
  },
  {
   "cell_type": "code",
   "execution_count": null,
   "id": "8a226128-c367-4b2a-84f9-c3060c8dc003",
   "metadata": {},
   "outputs": [],
   "source": []
  },
  {
   "cell_type": "code",
   "execution_count": null,
   "id": "949315ec-4f43-4948-8f9c-c33dde64a6d5",
   "metadata": {},
   "outputs": [],
   "source": []
  },
  {
   "cell_type": "code",
   "execution_count": null,
   "id": "d6f66e66-0bdb-4684-90a2-9aa33ecfcb2a",
   "metadata": {},
   "outputs": [],
   "source": []
  },
  {
   "cell_type": "code",
   "execution_count": null,
   "id": "01e917d1-bbdf-457b-a0c4-42696931a500",
   "metadata": {},
   "outputs": [],
   "source": []
  },
  {
   "cell_type": "code",
   "execution_count": null,
   "id": "d4b0e720-dcb3-40dd-b232-973473cc4105",
   "metadata": {},
   "outputs": [],
   "source": []
  }
 ],
 "metadata": {
  "kernelspec": {
   "display_name": "Python 3 (ipykernel)",
   "language": "python",
   "name": "python3"
  },
  "language_info": {
   "codemirror_mode": {
    "name": "ipython",
    "version": 3
   },
   "file_extension": ".py",
   "mimetype": "text/x-python",
   "name": "python",
   "nbconvert_exporter": "python",
   "pygments_lexer": "ipython3",
   "version": "3.12.7"
  }
 },
 "nbformat": 4,
 "nbformat_minor": 5
}
